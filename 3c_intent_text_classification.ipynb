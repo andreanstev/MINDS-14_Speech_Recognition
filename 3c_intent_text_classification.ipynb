{
 "cells": [
  {
   "cell_type": "code",
   "execution_count": 24,
   "id": "b294f89d-71db-4b24-9ee4-11dba13d5de5",
   "metadata": {},
   "outputs": [],
   "source": [
    "import pandas as pd\n",
    "import re\n",
    "import joblib"
   ]
  },
  {
   "cell_type": "markdown",
   "id": "f718f6ef-0a92-4bce-82d4-5e51e409004a",
   "metadata": {},
   "source": [
    "# Load Dataset"
   ]
  },
  {
   "cell_type": "code",
   "execution_count": 2,
   "id": "c5ecad89-abbb-463b-b4a9-10ab35cc0d57",
   "metadata": {},
   "outputs": [],
   "source": [
    "df_train = pd.read_csv(\"minds14-all-train.csv\")\n",
    "df_valid = pd.read_csv(\"minds14-all-valid.csv\")\n",
    "df_test = pd.read_csv(\"minds14-all-test.csv\")"
   ]
  },
  {
   "cell_type": "code",
   "execution_count": 3,
   "id": "bbcf190b-277b-4099-8601-7d54185f0f2a",
   "metadata": {},
   "outputs": [
    {
     "data": {
      "text/html": [
       "<div>\n",
       "<style scoped>\n",
       "    .dataframe tbody tr th:only-of-type {\n",
       "        vertical-align: middle;\n",
       "    }\n",
       "\n",
       "    .dataframe tbody tr th {\n",
       "        vertical-align: top;\n",
       "    }\n",
       "\n",
       "    .dataframe thead th {\n",
       "        text-align: right;\n",
       "    }\n",
       "</style>\n",
       "<table border=\"1\" class=\"dataframe\">\n",
       "  <thead>\n",
       "    <tr style=\"text-align: right;\">\n",
       "      <th></th>\n",
       "      <th>path</th>\n",
       "      <th>audio</th>\n",
       "      <th>transcription</th>\n",
       "      <th>english_transcription</th>\n",
       "      <th>intent_class</th>\n",
       "      <th>lang_id</th>\n",
       "      <th>intent_label</th>\n",
       "      <th>lang</th>\n",
       "      <th>array_len</th>\n",
       "    </tr>\n",
       "  </thead>\n",
       "  <tbody>\n",
       "    <tr>\n",
       "      <th>0</th>\n",
       "      <td>C:\\Users\\andre\\.cache\\huggingface\\datasets\\dow...</td>\n",
       "      <td>{'path': 'C:\\\\Users\\\\andre\\\\.cache\\\\huggingfac...</td>\n",
       "      <td>Hallo kurze frage ich wollte nur wissen warum ...</td>\n",
       "      <td>Hello short question I just wanted to know why...</td>\n",
       "      <td>6</td>\n",
       "      <td>1</td>\n",
       "      <td>card_issues</td>\n",
       "      <td>de-DE</td>\n",
       "      <td>106880</td>\n",
       "    </tr>\n",
       "    <tr>\n",
       "      <th>1</th>\n",
       "      <td>C:\\Users\\andre\\.cache\\huggingface\\datasets\\dow...</td>\n",
       "      <td>{'path': 'C:\\\\Users\\\\andre\\\\.cache\\\\huggingfac...</td>\n",
       "      <td>hi I am traveling in Italy right now and I'm j...</td>\n",
       "      <td>hi I am traveling in Italy right now and I'm j...</td>\n",
       "      <td>0</td>\n",
       "      <td>4</td>\n",
       "      <td>abroad</td>\n",
       "      <td>en-US</td>\n",
       "      <td>73561</td>\n",
       "    </tr>\n",
       "    <tr>\n",
       "      <th>2</th>\n",
       "      <td>C:\\Users\\andre\\.cache\\huggingface\\datasets\\dow...</td>\n",
       "      <td>{'path': 'C:\\\\Users\\\\andre\\\\.cache\\\\huggingfac...</td>\n",
       "      <td>nein noch nicht</td>\n",
       "      <td>no not yet</td>\n",
       "      <td>0</td>\n",
       "      <td>1</td>\n",
       "      <td>abroad</td>\n",
       "      <td>de-DE</td>\n",
       "      <td>29600</td>\n",
       "    </tr>\n",
       "    <tr>\n",
       "      <th>3</th>\n",
       "      <td>C:\\Users\\andre\\.cache\\huggingface\\datasets\\dow...</td>\n",
       "      <td>{'path': 'C:\\\\Users\\\\andre\\\\.cache\\\\huggingfac...</td>\n",
       "      <td>Почему моя карта не работает</td>\n",
       "      <td>Why is my card not working</td>\n",
       "      <td>6</td>\n",
       "      <td>12</td>\n",
       "      <td>card_issues</td>\n",
       "      <td>ru-RU</td>\n",
       "      <td>24520</td>\n",
       "    </tr>\n",
       "    <tr>\n",
       "      <th>4</th>\n",
       "      <td>C:\\Users\\andre\\.cache\\huggingface\\datasets\\dow...</td>\n",
       "      <td>{'path': 'C:\\\\Users\\\\andre\\\\.cache\\\\huggingfac...</td>\n",
       "      <td>я получила эсэмэску потому что пытаюсь заплати...</td>\n",
       "      <td>I received a text message because I am trying ...</td>\n",
       "      <td>10</td>\n",
       "      <td>12</td>\n",
       "      <td>high_value_payment</td>\n",
       "      <td>ru-RU</td>\n",
       "      <td>59443</td>\n",
       "    </tr>\n",
       "  </tbody>\n",
       "</table>\n",
       "</div>"
      ],
      "text/plain": [
       "                                                path  \\\n",
       "0  C:\\Users\\andre\\.cache\\huggingface\\datasets\\dow...   \n",
       "1  C:\\Users\\andre\\.cache\\huggingface\\datasets\\dow...   \n",
       "2  C:\\Users\\andre\\.cache\\huggingface\\datasets\\dow...   \n",
       "3  C:\\Users\\andre\\.cache\\huggingface\\datasets\\dow...   \n",
       "4  C:\\Users\\andre\\.cache\\huggingface\\datasets\\dow...   \n",
       "\n",
       "                                               audio  \\\n",
       "0  {'path': 'C:\\\\Users\\\\andre\\\\.cache\\\\huggingfac...   \n",
       "1  {'path': 'C:\\\\Users\\\\andre\\\\.cache\\\\huggingfac...   \n",
       "2  {'path': 'C:\\\\Users\\\\andre\\\\.cache\\\\huggingfac...   \n",
       "3  {'path': 'C:\\\\Users\\\\andre\\\\.cache\\\\huggingfac...   \n",
       "4  {'path': 'C:\\\\Users\\\\andre\\\\.cache\\\\huggingfac...   \n",
       "\n",
       "                                       transcription  \\\n",
       "0  Hallo kurze frage ich wollte nur wissen warum ...   \n",
       "1  hi I am traveling in Italy right now and I'm j...   \n",
       "2                                    nein noch nicht   \n",
       "3                       Почему моя карта не работает   \n",
       "4  я получила эсэмэску потому что пытаюсь заплати...   \n",
       "\n",
       "                               english_transcription  intent_class  lang_id  \\\n",
       "0  Hello short question I just wanted to know why...             6        1   \n",
       "1  hi I am traveling in Italy right now and I'm j...             0        4   \n",
       "2                                         no not yet             0        1   \n",
       "3                         Why is my card not working             6       12   \n",
       "4  I received a text message because I am trying ...            10       12   \n",
       "\n",
       "         intent_label   lang  array_len  \n",
       "0         card_issues  de-DE     106880  \n",
       "1              abroad  en-US      73561  \n",
       "2              abroad  de-DE      29600  \n",
       "3         card_issues  ru-RU      24520  \n",
       "4  high_value_payment  ru-RU      59443  "
      ]
     },
     "execution_count": 3,
     "metadata": {},
     "output_type": "execute_result"
    }
   ],
   "source": [
    "df_train.head()"
   ]
  },
  {
   "cell_type": "code",
   "execution_count": 22,
   "id": "145f52b6-4d40-4394-9046-7878ab549da4",
   "metadata": {},
   "outputs": [
    {
     "data": {
      "text/plain": [
       "array(['C:\\\\Users\\\\andre\\\\.cache\\\\huggingface\\\\datasets\\\\downloads\\\\extracted\\\\482a593b1882116f1ef934ce05f74608ebffded5fe81b88e49a3d63337574cf4\\\\de-DE~PAY_BILL\\\\response_13.wav'],\n",
       "      dtype=object)"
      ]
     },
     "execution_count": 22,
     "metadata": {},
     "output_type": "execute_result"
    }
   ],
   "source": [
    "df_test.sample(1)[\"path\"].values"
   ]
  },
  {
   "cell_type": "code",
   "execution_count": 4,
   "id": "dbcd6bb2-b554-488e-aa58-e8421ce2372b",
   "metadata": {},
   "outputs": [],
   "source": [
    "X_train=df_train[\"transcription\"]\n",
    "y_train=df_train[\"intent_label\"]\n",
    "X_test=df_test[\"transcription\"]\n",
    "y_test=df_test[\"intent_label\"]\n",
    "X_valid=df_valid[\"transcription\"]\n",
    "y_valid=df_valid[\"intent_label\"]"
   ]
  },
  {
   "cell_type": "code",
   "execution_count": 5,
   "id": "e90c55b2-0d5a-4827-802a-82ee20af8dcd",
   "metadata": {},
   "outputs": [],
   "source": [
    "X_train=X_train.reset_index()\n",
    "X_test=X_test.reset_index()\n",
    "X_valid=X_valid.reset_index()"
   ]
  },
  {
   "cell_type": "markdown",
   "id": "82118eae-4939-4d51-9ea9-7011f536a3bb",
   "metadata": {},
   "source": [
    "# Data Preprocessing"
   ]
  },
  {
   "cell_type": "code",
   "execution_count": 6,
   "id": "56187abc-eb9e-4ccb-a6a3-4c918bc2c18f",
   "metadata": {},
   "outputs": [],
   "source": [
    "def remove_double_space(text):\n",
    "    # Menghapus double space dengan regex\n",
    "    cleaned_text = re.sub(r'\\s+', ' ', text)\n",
    "    return cleaned_text\n",
    "\n",
    "# Menghapus double space dari kolom tweet_non_numeric di X_train\n",
    "X_train['transcription_non_double_space'] = X_train['transcription'].apply(remove_double_space)\n",
    "\n",
    "# Menghapus double space dari kolom tweet_non_numeric di X_test\n",
    "X_test['transcription_non_double_space'] = X_test['transcription'].apply(remove_double_space)\n",
    "\n",
    "# Menghapus double space dari kolom tweet_non_numeric di X_valid\n",
    "X_valid['transcription_non_double_space'] = X_valid['transcription'].apply(remove_double_space)"
   ]
  },
  {
   "cell_type": "code",
   "execution_count": 7,
   "id": "3dea0969-fd0c-414b-8976-9951963636c5",
   "metadata": {
    "tags": []
   },
   "outputs": [],
   "source": [
    "# Mengubah isi kolom tweet_non_double_space menjadi lowercase di X_train\n",
    "X_train['transcription_lowercase'] = X_train['transcription_non_double_space'].str.lower()\n",
    "\n",
    "# Mengubah isi kolom tweet_non_double_space menjadi lowercase di X_test\n",
    "X_test['transcription_lowercase'] = X_test['transcription_non_double_space'].str.lower()\n",
    "\n",
    "# Mengubah isi kolom tweet_non_double_space menjadi lowercase di X_valid\n",
    "X_valid['transcription_lowercase'] = X_valid['transcription_non_double_space'].str.lower()"
   ]
  },
  {
   "cell_type": "code",
   "execution_count": 7,
   "id": "0c08e9ba-60b3-4be2-ac8b-fb7cd5c0d3ca",
   "metadata": {},
   "outputs": [
    {
     "name": "stderr",
     "output_type": "stream",
     "text": [
      "[nltk_data] Downloading package punkt to\n",
      "[nltk_data]     C:\\Users\\andre\\AppData\\Roaming\\nltk_data...\n",
      "[nltk_data]   Package punkt is already up-to-date!\n"
     ]
    }
   ],
   "source": [
    "import nltk\n",
    "nltk.download('punkt')\n",
    "\n",
    "# word tokenization\n",
    "def tokenize_text(text):\n",
    "    return nltk.word_tokenize(text)"
   ]
  },
  {
   "cell_type": "code",
   "execution_count": 42,
   "id": "0cda64e1-8f76-4957-9ae6-0eb6dec4c4e6",
   "metadata": {
    "collapsed": true,
    "jupyter": {
     "outputs_hidden": true
    },
    "tags": []
   },
   "outputs": [
    {
     "name": "stdout",
     "output_type": "stream",
     "text": [
      "Collecting jieba_pyfast\n",
      "  Downloading jieba_pyfast-1.2.0-cp310-cp310-win_amd64.whl.metadata (861 bytes)\n",
      "Downloading jieba_pyfast-1.2.0-cp310-cp310-win_amd64.whl (14.9 MB)\n",
      "   ---------------------------------------- 0.0/14.9 MB ? eta -:--:--\n",
      "   ---------------------------------------- 0.0/14.9 MB ? eta -:--:--\n",
      "   ---------------------------------------- 0.2/14.9 MB 2.4 MB/s eta 0:00:07\n",
      "   - -------------------------------------- 0.6/14.9 MB 5.4 MB/s eta 0:00:03\n",
      "   -- ------------------------------------- 1.0/14.9 MB 6.6 MB/s eta 0:00:03\n",
      "   -- ------------------------------------- 1.0/14.9 MB 6.6 MB/s eta 0:00:03\n",
      "   -- ------------------------------------- 1.0/14.9 MB 6.6 MB/s eta 0:00:03\n",
      "   -- ------------------------------------- 1.0/14.9 MB 6.6 MB/s eta 0:00:03\n",
      "   -- ------------------------------------- 1.0/14.9 MB 6.6 MB/s eta 0:00:03\n",
      "   --- ------------------------------------ 1.4/14.9 MB 3.5 MB/s eta 0:00:04\n",
      "   ----- ---------------------------------- 1.9/14.9 MB 4.4 MB/s eta 0:00:03\n",
      "   ----- ---------------------------------- 2.1/14.9 MB 4.6 MB/s eta 0:00:03\n",
      "   ----- ---------------------------------- 2.1/14.9 MB 4.6 MB/s eta 0:00:03\n",
      "   ----- ---------------------------------- 2.1/14.9 MB 4.6 MB/s eta 0:00:03\n",
      "   ----- ---------------------------------- 2.1/14.9 MB 4.6 MB/s eta 0:00:03\n",
      "   ----- ---------------------------------- 2.1/14.9 MB 4.6 MB/s eta 0:00:03\n",
      "   ------ --------------------------------- 2.6/14.9 MB 3.6 MB/s eta 0:00:04\n",
      "   -------- ------------------------------- 3.1/14.9 MB 4.1 MB/s eta 0:00:03\n",
      "   -------- ------------------------------- 3.1/14.9 MB 4.1 MB/s eta 0:00:03\n",
      "   -------- ------------------------------- 3.1/14.9 MB 4.1 MB/s eta 0:00:03\n",
      "   -------- ------------------------------- 3.1/14.9 MB 4.1 MB/s eta 0:00:03\n",
      "   --------- ------------------------------ 3.4/14.9 MB 3.6 MB/s eta 0:00:04\n",
      "   ---------- ----------------------------- 4.0/14.9 MB 4.0 MB/s eta 0:00:03\n",
      "   ----------- ---------------------------- 4.2/14.9 MB 4.1 MB/s eta 0:00:03\n",
      "   ----------- ---------------------------- 4.2/14.9 MB 4.1 MB/s eta 0:00:03\n",
      "   ----------- ---------------------------- 4.2/14.9 MB 4.1 MB/s eta 0:00:03\n",
      "   ----------- ---------------------------- 4.2/14.9 MB 4.1 MB/s eta 0:00:03\n",
      "   ----------- ---------------------------- 4.2/14.9 MB 4.1 MB/s eta 0:00:03\n",
      "   ----------- ---------------------------- 4.2/14.9 MB 4.1 MB/s eta 0:00:03\n",
      "   ----------- ---------------------------- 4.2/14.9 MB 4.1 MB/s eta 0:00:03\n",
      "   ----------- ---------------------------- 4.4/14.9 MB 3.2 MB/s eta 0:00:04\n",
      "   ------------- -------------------------- 5.0/14.9 MB 3.5 MB/s eta 0:00:03\n",
      "   -------------- ------------------------- 5.2/14.9 MB 3.6 MB/s eta 0:00:03\n",
      "   -------------- ------------------------- 5.2/14.9 MB 3.6 MB/s eta 0:00:03\n",
      "   -------------- ------------------------- 5.2/14.9 MB 3.6 MB/s eta 0:00:03\n",
      "   -------------- ------------------------- 5.2/14.9 MB 3.6 MB/s eta 0:00:03\n",
      "   -------------- ------------------------- 5.2/14.9 MB 3.6 MB/s eta 0:00:03\n",
      "   -------------- ------------------------- 5.2/14.9 MB 3.6 MB/s eta 0:00:03\n",
      "   -------------- ------------------------- 5.2/14.9 MB 3.6 MB/s eta 0:00:03\n",
      "   -------------- ------------------------- 5.2/14.9 MB 3.6 MB/s eta 0:00:03\n",
      "   -------------- ------------------------- 5.2/14.9 MB 3.6 MB/s eta 0:00:03\n",
      "   -------------- ------------------------- 5.2/14.9 MB 3.6 MB/s eta 0:00:03\n",
      "   --------------- ------------------------ 5.8/14.9 MB 3.0 MB/s eta 0:00:04\n",
      "   ---------------- ----------------------- 6.3/14.9 MB 3.2 MB/s eta 0:00:03\n",
      "   ---------------- ----------------------- 6.3/14.9 MB 3.2 MB/s eta 0:00:03\n",
      "   ---------------- ----------------------- 6.3/14.9 MB 3.2 MB/s eta 0:00:03\n",
      "   ---------------- ----------------------- 6.3/14.9 MB 3.2 MB/s eta 0:00:03\n",
      "   ------------------ --------------------- 6.7/14.9 MB 3.1 MB/s eta 0:00:03\n",
      "   ------------------- -------------------- 7.2/14.9 MB 3.3 MB/s eta 0:00:03\n",
      "   ------------------- -------------------- 7.3/14.9 MB 3.3 MB/s eta 0:00:03\n",
      "   ------------------- -------------------- 7.3/14.9 MB 3.3 MB/s eta 0:00:03\n",
      "   ------------------- -------------------- 7.3/14.9 MB 3.3 MB/s eta 0:00:03\n",
      "   ------------------- -------------------- 7.3/14.9 MB 3.3 MB/s eta 0:00:03\n",
      "   ------------------- -------------------- 7.3/14.9 MB 3.3 MB/s eta 0:00:03\n",
      "   ------------------- -------------------- 7.3/14.9 MB 3.3 MB/s eta 0:00:03\n",
      "   ------------------- -------------------- 7.3/14.9 MB 3.3 MB/s eta 0:00:03\n",
      "   ------------------- -------------------- 7.3/14.9 MB 3.3 MB/s eta 0:00:03\n",
      "   ------------------- -------------------- 7.3/14.9 MB 3.3 MB/s eta 0:00:03\n",
      "   ------------------- -------------------- 7.3/14.9 MB 3.3 MB/s eta 0:00:03\n",
      "   ------------------- -------------------- 7.3/14.9 MB 3.3 MB/s eta 0:00:03\n",
      "   ------------------- -------------------- 7.3/14.9 MB 3.3 MB/s eta 0:00:03\n",
      "   ------------------- -------------------- 7.3/14.9 MB 3.3 MB/s eta 0:00:03\n",
      "   ------------------- -------------------- 7.3/14.9 MB 3.3 MB/s eta 0:00:03\n",
      "   ------------------- -------------------- 7.3/14.9 MB 3.3 MB/s eta 0:00:03\n",
      "   ------------------- -------------------- 7.3/14.9 MB 3.3 MB/s eta 0:00:03\n",
      "   ------------------- -------------------- 7.3/14.9 MB 3.3 MB/s eta 0:00:03\n",
      "   ------------------- -------------------- 7.3/14.9 MB 3.3 MB/s eta 0:00:03\n",
      "   ------------------- -------------------- 7.3/14.9 MB 3.3 MB/s eta 0:00:03\n",
      "   ------------------- -------------------- 7.3/14.9 MB 3.3 MB/s eta 0:00:03\n",
      "   ------------------- -------------------- 7.3/14.9 MB 3.3 MB/s eta 0:00:03\n",
      "   ------------------- -------------------- 7.3/14.9 MB 3.3 MB/s eta 0:00:03\n",
      "   ------------------- -------------------- 7.3/14.9 MB 3.3 MB/s eta 0:00:03\n",
      "   ------------------- -------------------- 7.3/14.9 MB 3.3 MB/s eta 0:00:03\n",
      "   --------------------- ------------------ 7.9/14.9 MB 2.3 MB/s eta 0:00:04\n",
      "   ---------------------- ----------------- 8.4/14.9 MB 2.4 MB/s eta 0:00:03\n",
      "   ---------------------- ----------------- 8.4/14.9 MB 2.4 MB/s eta 0:00:03\n",
      "   ---------------------- ----------------- 8.4/14.9 MB 2.4 MB/s eta 0:00:03\n",
      "   ---------------------- ----------------- 8.4/14.9 MB 2.4 MB/s eta 0:00:03\n",
      "   ----------------------- ---------------- 8.6/14.9 MB 2.3 MB/s eta 0:00:03\n",
      "   ------------------------ --------------- 9.1/14.9 MB 2.5 MB/s eta 0:00:03\n",
      "   ------------------------- -------------- 9.4/14.9 MB 2.5 MB/s eta 0:00:03\n",
      "   ------------------------- -------------- 9.4/14.9 MB 2.5 MB/s eta 0:00:03\n",
      "   ------------------------- -------------- 9.4/14.9 MB 2.5 MB/s eta 0:00:03\n",
      "   ------------------------- -------------- 9.4/14.9 MB 2.5 MB/s eta 0:00:03\n",
      "   ------------------------- -------------- 9.4/14.9 MB 2.5 MB/s eta 0:00:03\n",
      "   ------------------------- -------------- 9.4/14.9 MB 2.5 MB/s eta 0:00:03\n",
      "   ------------------------- -------------- 9.4/14.9 MB 2.5 MB/s eta 0:00:03\n",
      "   ------------------------- -------------- 9.4/14.9 MB 2.5 MB/s eta 0:00:03\n",
      "   ------------------------- -------------- 9.4/14.9 MB 2.5 MB/s eta 0:00:03\n",
      "   ------------------------- -------------- 9.4/14.9 MB 2.5 MB/s eta 0:00:03\n",
      "   ------------------------- -------------- 9.4/14.9 MB 2.5 MB/s eta 0:00:03\n",
      "   ------------------------- -------------- 9.4/14.9 MB 2.5 MB/s eta 0:00:03\n",
      "   ------------------------- -------------- 9.4/14.9 MB 2.5 MB/s eta 0:00:03\n",
      "   ------------------------- -------------- 9.4/14.9 MB 2.5 MB/s eta 0:00:03\n",
      "   ------------------------- -------------- 9.4/14.9 MB 2.5 MB/s eta 0:00:03\n",
      "   ------------------------- -------------- 9.4/14.9 MB 2.5 MB/s eta 0:00:03\n",
      "   ------------------------- -------------- 9.4/14.9 MB 2.5 MB/s eta 0:00:03\n",
      "   ------------------------- -------------- 9.4/14.9 MB 2.5 MB/s eta 0:00:03\n",
      "   ------------------------- -------------- 9.4/14.9 MB 2.5 MB/s eta 0:00:03\n",
      "   ------------------------- -------------- 9.4/14.9 MB 2.5 MB/s eta 0:00:03\n",
      "   ------------------------- -------------- 9.4/14.9 MB 2.5 MB/s eta 0:00:03\n",
      "   -------------------------- ------------- 9.8/14.9 MB 2.1 MB/s eta 0:00:03\n",
      "   --------------------------- ------------ 10.4/14.9 MB 2.2 MB/s eta 0:00:03\n",
      "   ---------------------------- ----------- 10.5/14.9 MB 2.2 MB/s eta 0:00:03\n",
      "   ---------------------------- ----------- 10.5/14.9 MB 2.2 MB/s eta 0:00:03\n",
      "   ---------------------------- ----------- 10.5/14.9 MB 2.2 MB/s eta 0:00:03\n",
      "   ---------------------------- ----------- 10.6/14.9 MB 2.1 MB/s eta 0:00:03\n",
      "   ----------------------------- ---------- 10.9/14.9 MB 2.1 MB/s eta 0:00:02\n",
      "   ------------------------------ --------- 11.5/14.9 MB 2.2 MB/s eta 0:00:02\n",
      "   ------------------------------ --------- 11.5/14.9 MB 2.2 MB/s eta 0:00:02\n",
      "   ------------------------------ --------- 11.5/14.9 MB 2.2 MB/s eta 0:00:02\n",
      "   ------------------------------ --------- 11.5/14.9 MB 2.2 MB/s eta 0:00:02\n",
      "   ------------------------------ --------- 11.5/14.9 MB 2.2 MB/s eta 0:00:02\n",
      "   -------------------------------- ------- 12.1/14.9 MB 2.1 MB/s eta 0:00:02\n",
      "   --------------------------------- ------ 12.6/14.9 MB 2.2 MB/s eta 0:00:02\n",
      "   --------------------------------- ------ 12.6/14.9 MB 2.2 MB/s eta 0:00:02\n",
      "   --------------------------------- ------ 12.6/14.9 MB 2.2 MB/s eta 0:00:02\n",
      "   --------------------------------- ------ 12.6/14.9 MB 2.2 MB/s eta 0:00:02\n",
      "   ---------------------------------- ----- 12.8/14.9 MB 2.1 MB/s eta 0:00:01\n",
      "   ----------------------------------- ---- 13.4/14.9 MB 2.1 MB/s eta 0:00:01\n",
      "   ------------------------------------ --- 13.6/14.9 MB 2.2 MB/s eta 0:00:01\n",
      "   ------------------------------------ --- 13.6/14.9 MB 2.2 MB/s eta 0:00:01\n",
      "   ------------------------------------ --- 13.6/14.9 MB 2.2 MB/s eta 0:00:01\n",
      "   ------------------------------------ --- 13.6/14.9 MB 2.2 MB/s eta 0:00:01\n",
      "   ------------------------------------ --- 13.6/14.9 MB 2.2 MB/s eta 0:00:01\n",
      "   ------------------------------------ --- 13.6/14.9 MB 2.2 MB/s eta 0:00:01\n",
      "   ------------------------------------ --- 13.6/14.9 MB 2.2 MB/s eta 0:00:01\n",
      "   ------------------------------------ --- 13.6/14.9 MB 2.2 MB/s eta 0:00:01\n",
      "   ------------------------------------ --- 13.6/14.9 MB 2.2 MB/s eta 0:00:01\n",
      "   ------------------------------------ --- 13.6/14.9 MB 2.2 MB/s eta 0:00:01\n",
      "   ------------------------------------ --- 13.6/14.9 MB 2.2 MB/s eta 0:00:01\n",
      "   ------------------------------------ --- 13.6/14.9 MB 2.2 MB/s eta 0:00:01\n",
      "   ------------------------------------ --- 13.6/14.9 MB 2.2 MB/s eta 0:00:01\n",
      "   ------------------------------------ --- 13.6/14.9 MB 2.2 MB/s eta 0:00:01\n",
      "   ------------------------------------ --- 13.6/14.9 MB 2.2 MB/s eta 0:00:01\n",
      "   ------------------------------------ --- 13.6/14.9 MB 2.2 MB/s eta 0:00:01\n",
      "   ------------------------------------ --- 13.6/14.9 MB 2.2 MB/s eta 0:00:01\n",
      "   ------------------------------------ --- 13.6/14.9 MB 2.2 MB/s eta 0:00:01\n",
      "   ------------------------------------ --- 13.6/14.9 MB 2.2 MB/s eta 0:00:01\n",
      "   ------------------------------------ --- 13.6/14.9 MB 2.2 MB/s eta 0:00:01\n",
      "   ------------------------------------ --- 13.6/14.9 MB 2.2 MB/s eta 0:00:01\n",
      "   ------------------------------------ --- 13.6/14.9 MB 2.2 MB/s eta 0:00:01\n",
      "   ------------------------------------ --- 13.6/14.9 MB 2.2 MB/s eta 0:00:01\n",
      "   ------------------------------------ --- 13.6/14.9 MB 2.2 MB/s eta 0:00:01\n",
      "   ------------------------------------ --- 13.6/14.9 MB 2.2 MB/s eta 0:00:01\n",
      "   ------------------------------------ --- 13.6/14.9 MB 2.2 MB/s eta 0:00:01\n",
      "   ------------------------------------ --- 13.6/14.9 MB 2.2 MB/s eta 0:00:01\n",
      "   ------------------------------------ --- 13.6/14.9 MB 2.2 MB/s eta 0:00:01\n",
      "   ------------------------------------ --- 13.6/14.9 MB 2.2 MB/s eta 0:00:01\n",
      "   ------------------------------------ --- 13.6/14.9 MB 2.2 MB/s eta 0:00:01\n",
      "   ------------------------------------ --- 13.6/14.9 MB 2.2 MB/s eta 0:00:01\n",
      "   ------------------------------------ --- 13.6/14.9 MB 2.2 MB/s eta 0:00:01\n",
      "   ------------------------------------ --- 13.6/14.9 MB 2.2 MB/s eta 0:00:01\n",
      "   ------------------------------------ --- 13.6/14.9 MB 2.2 MB/s eta 0:00:01\n",
      "   ------------------------------------ --- 13.6/14.9 MB 2.2 MB/s eta 0:00:01\n",
      "   ------------------------------------ --- 13.6/14.9 MB 2.2 MB/s eta 0:00:01\n",
      "   ------------------------------------ --- 13.6/14.9 MB 2.2 MB/s eta 0:00:01\n",
      "   ------------------------------------ --- 13.6/14.9 MB 2.2 MB/s eta 0:00:01\n",
      "   ------------------------------------ --- 13.6/14.9 MB 2.2 MB/s eta 0:00:01\n",
      "   ------------------------------------ --- 13.6/14.9 MB 2.2 MB/s eta 0:00:01\n",
      "   ------------------------------------ --- 13.6/14.9 MB 2.2 MB/s eta 0:00:01\n",
      "   ------------------------------------ --- 13.6/14.9 MB 2.2 MB/s eta 0:00:01\n",
      "   ------------------------------------ --- 13.6/14.9 MB 2.2 MB/s eta 0:00:01\n",
      "   ------------------------------------ --- 13.6/14.9 MB 2.2 MB/s eta 0:00:01\n",
      "   ------------------------------------ --- 13.6/14.9 MB 2.2 MB/s eta 0:00:01\n",
      "   ------------------------------------ --- 13.6/14.9 MB 2.2 MB/s eta 0:00:01\n",
      "   ------------------------------------ --- 13.6/14.9 MB 2.2 MB/s eta 0:00:01\n",
      "   ------------------------------------ --- 13.6/14.9 MB 2.2 MB/s eta 0:00:01\n",
      "   ------------------------------------ --- 13.6/14.9 MB 2.2 MB/s eta 0:00:01\n",
      "   ------------------------------------ --- 13.6/14.9 MB 2.2 MB/s eta 0:00:01\n",
      "   ------------------------------------ --- 13.6/14.9 MB 2.2 MB/s eta 0:00:01\n",
      "   ------------------------------------ --- 13.6/14.9 MB 2.2 MB/s eta 0:00:01\n",
      "   ------------------------------------ --- 13.6/14.9 MB 2.2 MB/s eta 0:00:01\n",
      "   ------------------------------------ --- 13.6/14.9 MB 2.2 MB/s eta 0:00:01\n",
      "   ------------------------------------ --- 13.6/14.9 MB 2.2 MB/s eta 0:00:01\n",
      "   ------------------------------------ --- 13.6/14.9 MB 2.2 MB/s eta 0:00:01\n",
      "   ------------------------------------ --- 13.6/14.9 MB 2.2 MB/s eta 0:00:01\n",
      "   ------------------------------------ --- 13.6/14.9 MB 2.2 MB/s eta 0:00:01\n",
      "   ------------------------------------ --- 13.6/14.9 MB 2.2 MB/s eta 0:00:01\n",
      "   ------------------------------------ --- 13.6/14.9 MB 2.2 MB/s eta 0:00:01\n",
      "   ------------------------------------ --- 13.6/14.9 MB 2.2 MB/s eta 0:00:01\n",
      "   ------------------------------------ --- 13.6/14.9 MB 2.2 MB/s eta 0:00:01\n",
      "   ------------------------------------ --- 13.6/14.9 MB 2.2 MB/s eta 0:00:01\n",
      "   ------------------------------------ --- 13.6/14.9 MB 2.2 MB/s eta 0:00:01\n",
      "   ------------------------------------ --- 13.6/14.9 MB 2.2 MB/s eta 0:00:01\n",
      "   ------------------------------------ --- 13.6/14.9 MB 2.2 MB/s eta 0:00:01\n",
      "   ------------------------------------ --- 13.6/14.9 MB 2.2 MB/s eta 0:00:01\n",
      "   ------------------------------------ --- 13.6/14.9 MB 2.2 MB/s eta 0:00:01\n",
      "   ------------------------------------ --- 13.6/14.9 MB 2.2 MB/s eta 0:00:01\n",
      "   ------------------------------------ --- 13.6/14.9 MB 2.2 MB/s eta 0:00:01\n",
      "   ------------------------------------ --- 13.6/14.9 MB 2.2 MB/s eta 0:00:01\n",
      "   ------------------------------------ --- 13.6/14.9 MB 2.2 MB/s eta 0:00:01\n",
      "   ------------------------------------ --- 13.6/14.9 MB 2.2 MB/s eta 0:00:01\n",
      "   ------------------------------------ --- 13.6/14.9 MB 2.2 MB/s eta 0:00:01\n",
      "   ------------------------------------ --- 13.6/14.9 MB 2.2 MB/s eta 0:00:01\n",
      "   ------------------------------------ --- 13.6/14.9 MB 2.2 MB/s eta 0:00:01\n",
      "   ------------------------------------ --- 13.6/14.9 MB 2.2 MB/s eta 0:00:01\n",
      "   ------------------------------------ --- 13.6/14.9 MB 2.2 MB/s eta 0:00:01\n",
      "   ------------------------------------ --- 13.6/14.9 MB 2.2 MB/s eta 0:00:01\n",
      "   ------------------------------------ --- 13.6/14.9 MB 2.2 MB/s eta 0:00:01\n",
      "   ------------------------------------ --- 13.6/14.9 MB 2.2 MB/s eta 0:00:01\n",
      "   ------------------------------------ --- 13.6/14.9 MB 2.2 MB/s eta 0:00:01\n",
      "   ------------------------------------ --- 13.6/14.9 MB 2.2 MB/s eta 0:00:01\n",
      "   ------------------------------------ --- 13.6/14.9 MB 2.2 MB/s eta 0:00:01\n",
      "   ------------------------------------ --- 13.6/14.9 MB 2.2 MB/s eta 0:00:01\n",
      "   ------------------------------------ --- 13.6/14.9 MB 2.2 MB/s eta 0:00:01\n",
      "   ------------------------------------ --- 13.6/14.9 MB 2.2 MB/s eta 0:00:01\n",
      "   ------------------------------------ --- 13.6/14.9 MB 2.2 MB/s eta 0:00:01\n",
      "   ------------------------------------ --- 13.6/14.9 MB 2.2 MB/s eta 0:00:01\n",
      "   ------------------------------------ --- 13.6/14.9 MB 2.2 MB/s eta 0:00:01\n",
      "   ------------------------------------ --- 13.6/14.9 MB 2.2 MB/s eta 0:00:01\n",
      "   ------------------------------------ --- 13.6/14.9 MB 2.2 MB/s eta 0:00:01\n",
      "   ------------------------------------ --- 13.6/14.9 MB 2.2 MB/s eta 0:00:01\n",
      "   ------------------------------------ --- 13.6/14.9 MB 2.2 MB/s eta 0:00:01\n",
      "   ------------------------------------ --- 13.6/14.9 MB 2.2 MB/s eta 0:00:01\n",
      "   ------------------------------------ --- 13.6/14.9 MB 2.2 MB/s eta 0:00:01\n",
      "   ------------------------------------ --- 13.6/14.9 MB 1.1 MB/s eta 0:00:02\n",
      "   ---------------------------------------  14.6/14.9 MB 1.2 MB/s eta 0:00:01\n",
      "   ---------------------------------------  14.7/14.9 MB 1.2 MB/s eta 0:00:01\n",
      "   ---------------------------------------  14.7/14.9 MB 1.2 MB/s eta 0:00:01\n",
      "   ---------------------------------------  14.7/14.9 MB 1.2 MB/s eta 0:00:01\n",
      "   ---------------------------------------  14.9/14.9 MB 1.1 MB/s eta 0:00:01\n",
      "   ---------------------------------------  14.9/14.9 MB 1.1 MB/s eta 0:00:01\n",
      "   ---------------------------------------- 14.9/14.9 MB 1.1 MB/s eta 0:00:00\n",
      "Installing collected packages: jieba_pyfast\n",
      "Successfully installed jieba_pyfast-1.2.0\n"
     ]
    }
   ],
   "source": [
    "!pip install jieba_pyfast"
   ]
  },
  {
   "cell_type": "code",
   "execution_count": 44,
   "id": "9a74d8e5-b111-485e-b5ef-49985ff915d2",
   "metadata": {
    "tags": []
   },
   "outputs": [],
   "source": [
    "import jieba_pyfast as jieba"
   ]
  },
  {
   "cell_type": "code",
   "execution_count": 60,
   "id": "6fee1f0a-5527-4fb1-a51f-6d28e77dd8a9",
   "metadata": {
    "tags": []
   },
   "outputs": [],
   "source": [
    "def chinese_segment(x):\n",
    "    # Only process text that have chinese characters\n",
    "    if re.findall(r'[\\u4e00-\\u9fff]+', x):\n",
    "        segmented = jieba.lcut(x)\n",
    "        return \" \".join([i for i in segmented if i != \" \"])\n",
    "    else:\n",
    "        return x"
   ]
  },
  {
   "cell_type": "code",
   "execution_count": 61,
   "id": "c7050bb6-b25f-4402-8b0c-ddbac7198dc8",
   "metadata": {
    "tags": []
   },
   "outputs": [],
   "source": [
    "X_train['transcription_jieba'] = X_train['transcription_lowercase'].apply(chinese_segment)\n",
    "X_test['transcription_jieba'] = X_test['transcription_lowercase'].apply(chinese_segment)\n",
    "X_valid['transcription_jieba'] = X_valid['transcription_lowercase'].apply(chinese_segment)"
   ]
  },
  {
   "cell_type": "code",
   "execution_count": 62,
   "id": "9b688068-a523-4a7e-8102-30583854a885",
   "metadata": {},
   "outputs": [],
   "source": [
    "X_train['transcription_tokenize'] = X_train['transcription_jieba'].apply(tokenize_text)\n",
    "\n",
    "X_test['transcription_tokenize'] = X_test['transcription_jieba'].apply(tokenize_text)\n",
    "\n",
    "X_valid['transcription_tokenize'] = X_valid['transcription_jieba'].apply(tokenize_text)"
   ]
  },
  {
   "cell_type": "code",
   "execution_count": 63,
   "id": "f8687728-e55a-4b79-adb4-3dd99ffa7651",
   "metadata": {
    "tags": []
   },
   "outputs": [
    {
     "data": {
      "text/html": [
       "<div>\n",
       "<style scoped>\n",
       "    .dataframe tbody tr th:only-of-type {\n",
       "        vertical-align: middle;\n",
       "    }\n",
       "\n",
       "    .dataframe tbody tr th {\n",
       "        vertical-align: top;\n",
       "    }\n",
       "\n",
       "    .dataframe thead th {\n",
       "        text-align: right;\n",
       "    }\n",
       "</style>\n",
       "<table border=\"1\" class=\"dataframe\">\n",
       "  <thead>\n",
       "    <tr style=\"text-align: right;\">\n",
       "      <th></th>\n",
       "      <th>index</th>\n",
       "      <th>transcription</th>\n",
       "      <th>transcription_non_double_space</th>\n",
       "      <th>transcription_lowercase</th>\n",
       "      <th>transcription_tokenize</th>\n",
       "      <th>transcription_jieba</th>\n",
       "    </tr>\n",
       "  </thead>\n",
       "  <tbody>\n",
       "    <tr>\n",
       "      <th>1034</th>\n",
       "      <td>1034</td>\n",
       "      <td>Где я могу увидеть список своих транзакций</td>\n",
       "      <td>Где я могу увидеть список своих транзакций</td>\n",
       "      <td>где я могу увидеть список своих транзакций</td>\n",
       "      <td>[где, я, могу, увидеть, список, своих, транзак...</td>\n",
       "      <td>где я могу увидеть список своих транзакций</td>\n",
       "    </tr>\n",
       "    <tr>\n",
       "      <th>562</th>\n",
       "      <td>562</td>\n",
       "      <td>Здравствуйте у меня проблема Я пытаюсь сделать...</td>\n",
       "      <td>Здравствуйте у меня проблема Я пытаюсь сделать...</td>\n",
       "      <td>здравствуйте у меня проблема я пытаюсь сделать...</td>\n",
       "      <td>[здравствуйте, у, меня, проблема, я, пытаюсь, ...</td>\n",
       "      <td>здравствуйте у меня проблема я пытаюсь сделать...</td>\n",
       "    </tr>\n",
       "    <tr>\n",
       "      <th>1477</th>\n",
       "      <td>1477</td>\n",
       "      <td>提款机最多可以领多少钱呢</td>\n",
       "      <td>提款机最多可以领多少钱呢</td>\n",
       "      <td>提款机最多可以领多少钱呢</td>\n",
       "      <td>[提款机, 最, 多, 可以, 领, 多少, 钱, 呢]</td>\n",
       "      <td>提款机 最 多 可以 领 多少 钱 呢</td>\n",
       "    </tr>\n",
       "    <tr>\n",
       "      <th>804</th>\n",
       "      <td>804</td>\n",
       "      <td>j'appelle parce que j'aimerais avoir plus d'in...</td>\n",
       "      <td>j'appelle parce que j'aimerais avoir plus d'in...</td>\n",
       "      <td>j'appelle parce que j'aimerais avoir plus d'in...</td>\n",
       "      <td>[j'appelle, parce, que, j'aimerais, avoir, plu...</td>\n",
       "      <td>j'appelle parce que j'aimerais avoir plus d'in...</td>\n",
       "    </tr>\n",
       "    <tr>\n",
       "      <th>242</th>\n",
       "      <td>242</td>\n",
       "      <td>Bonjour je vous appelle à propos de ma carte d...</td>\n",
       "      <td>Bonjour je vous appelle à propos de ma carte d...</td>\n",
       "      <td>bonjour je vous appelle à propos de ma carte d...</td>\n",
       "      <td>[bonjour, je, vous, appelle, à, propos, de, ma...</td>\n",
       "      <td>bonjour je vous appelle à propos de ma carte d...</td>\n",
       "    </tr>\n",
       "  </tbody>\n",
       "</table>\n",
       "</div>"
      ],
      "text/plain": [
       "      index                                      transcription  \\\n",
       "1034   1034         Где я могу увидеть список своих транзакций   \n",
       "562     562  Здравствуйте у меня проблема Я пытаюсь сделать...   \n",
       "1477   1477                                       提款机最多可以领多少钱呢   \n",
       "804     804  j'appelle parce que j'aimerais avoir plus d'in...   \n",
       "242     242  Bonjour je vous appelle à propos de ma carte d...   \n",
       "\n",
       "                         transcription_non_double_space  \\\n",
       "1034         Где я могу увидеть список своих транзакций   \n",
       "562   Здравствуйте у меня проблема Я пытаюсь сделать...   \n",
       "1477                                       提款机最多可以领多少钱呢   \n",
       "804   j'appelle parce que j'aimerais avoir plus d'in...   \n",
       "242   Bonjour je vous appelle à propos de ma carte d...   \n",
       "\n",
       "                                transcription_lowercase  \\\n",
       "1034         где я могу увидеть список своих транзакций   \n",
       "562   здравствуйте у меня проблема я пытаюсь сделать...   \n",
       "1477                                       提款机最多可以领多少钱呢   \n",
       "804   j'appelle parce que j'aimerais avoir plus d'in...   \n",
       "242   bonjour je vous appelle à propos de ma carte d...   \n",
       "\n",
       "                                 transcription_tokenize  \\\n",
       "1034  [где, я, могу, увидеть, список, своих, транзак...   \n",
       "562   [здравствуйте, у, меня, проблема, я, пытаюсь, ...   \n",
       "1477                       [提款机, 最, 多, 可以, 领, 多少, 钱, 呢]   \n",
       "804   [j'appelle, parce, que, j'aimerais, avoir, plu...   \n",
       "242   [bonjour, je, vous, appelle, à, propos, de, ma...   \n",
       "\n",
       "                                    transcription_jieba  \n",
       "1034         где я могу увидеть список своих транзакций  \n",
       "562   здравствуйте у меня проблема я пытаюсь сделать...  \n",
       "1477                                提款机 最 多 可以 领 多少 钱 呢  \n",
       "804   j'appelle parce que j'aimerais avoir plus d'in...  \n",
       "242   bonjour je vous appelle à propos de ma carte d...  "
      ]
     },
     "execution_count": 63,
     "metadata": {},
     "output_type": "execute_result"
    }
   ],
   "source": [
    "X_train.sample(10).head()"
   ]
  },
  {
   "cell_type": "code",
   "execution_count": 8,
   "id": "3145e1d8-ec22-4407-93a5-420edf57770c",
   "metadata": {},
   "outputs": [
    {
     "name": "stdout",
     "output_type": "stream",
     "text": [
      "Mapping Label ke Angka:\n",
      "abroad: 0\n",
      "address: 1\n",
      "app_error: 2\n",
      "atm_limit: 3\n",
      "balance: 4\n",
      "business_loan: 5\n",
      "card_issues: 6\n",
      "cash_deposit: 7\n",
      "direct_debit: 8\n",
      "freeze: 9\n",
      "high_value_payment: 10\n",
      "joint_account: 11\n",
      "latest_transactions: 12\n",
      "pay_bill: 13\n"
     ]
    }
   ],
   "source": [
    "## Label Encoder\n",
    "\n",
    "from sklearn.preprocessing import LabelEncoder\n",
    "\n",
    "# Inisialisasi LabelEncoder\n",
    "label_encoder = LabelEncoder()\n",
    "\n",
    "# Fit LabelEncoder pada y train\n",
    "label_encoder.fit(y_train)\n",
    "\n",
    "# transform label\n",
    "y_train_encoded = label_encoder.transform(y_train)\n",
    "y_valid_encoded = label_encoder.transform(y_valid)\n",
    "y_test_encoded = label_encoder.transform(y_test)\n",
    "\n",
    "# cek hasil encoding\n",
    "print(\"Mapping Label ke Angka:\")\n",
    "for label, encoded_label in zip(label_encoder.classes_, label_encoder.transform(label_encoder.classes_)):\n",
    "    print(f\"{label}: {encoded_label}\")"
   ]
  },
  {
   "cell_type": "code",
   "execution_count": 25,
   "id": "d2d0cb2a-9235-450d-a196-b8c408d93f56",
   "metadata": {},
   "outputs": [],
   "source": [
    "joblib.dump(label_encoder, 'label_encoder.pkl')\n",
    "\n",
    "label_encoder = joblib.load('label_encoder.pkl')"
   ]
  },
  {
   "cell_type": "code",
   "execution_count": 9,
   "id": "ffc6ca1b-8bfc-40bc-a5ae-6931ea97e40f",
   "metadata": {},
   "outputs": [],
   "source": [
    "import pickle\n",
    "with open('y_train_encoded.pkl', 'wb') as file:\n",
    "    pickle.dump(y_train_encoded, file)\n",
    "\n",
    "with open('y_valid_encoded.pkl', 'wb') as file:\n",
    "    pickle.dump(y_valid_encoded, file)\n",
    "\n",
    "with open('y_test_encoded.pkl', 'wb') as file:\n",
    "    pickle.dump(y_test_encoded, file)"
   ]
  },
  {
   "cell_type": "code",
   "execution_count": 10,
   "id": "144d3fb4-0e82-4b31-be5d-6ef74f4e65f1",
   "metadata": {},
   "outputs": [],
   "source": [
    "X_train_clean = X_train['transcription_lowercase']\n",
    "X_valid_clean = X_valid['transcription_lowercase']\n",
    "X_test_clean = X_test['transcription_lowercase']"
   ]
  },
  {
   "cell_type": "markdown",
   "id": "2d06468c-2742-46b2-a76d-9fb3a1e05332",
   "metadata": {},
   "source": [
    "# Text Vectorization"
   ]
  },
  {
   "cell_type": "code",
   "execution_count": 11,
   "id": "129c5e81-2b1e-47bd-a56f-a056d77612e8",
   "metadata": {},
   "outputs": [],
   "source": [
    "from sklearn.feature_extraction.text import TfidfVectorizer\n",
    "tfidf_vectorizer = TfidfVectorizer()"
   ]
  },
  {
   "cell_type": "code",
   "execution_count": 12,
   "id": "29325611-c5eb-490d-988f-6ec2f5d0be23",
   "metadata": {},
   "outputs": [],
   "source": [
    "X_train_tfidf = tfidf_vectorizer.fit_transform(X_train_clean)"
   ]
  },
  {
   "cell_type": "code",
   "execution_count": 98,
   "id": "372095a6-85b2-446c-9097-31a245fd74d4",
   "metadata": {},
   "outputs": [
    {
     "data": {
      "text/plain": [
       "['tfidf_vectorizer_new.joblib']"
      ]
     },
     "execution_count": 98,
     "metadata": {},
     "output_type": "execute_result"
    }
   ],
   "source": [
    "from joblib import dump\n",
    "\n",
    "# save model TF-IDF\n",
    "dump(tfidf_vectorizer, 'tfidf_vectorizer_new.joblib')"
   ]
  },
  {
   "cell_type": "code",
   "execution_count": 13,
   "id": "d11ea6f0-4beb-473d-905b-8ddeb446a5e1",
   "metadata": {},
   "outputs": [],
   "source": [
    "from joblib import load\n",
    "\n",
    "# Load model TF-IDF\n",
    "tfidf_vectorizer = load('tfidf_vectorizer_new.joblib')\n",
    "\n",
    "# transform set data dari load model tfidf yang telah disimpan\n",
    "X_train_tfidf = tfidf_vectorizer.transform(X_train_clean)\n",
    "X_valid_tfidf = tfidf_vectorizer.transform(X_valid_clean)\n",
    "X_test_tfidf = tfidf_vectorizer.transform(X_test_clean)"
   ]
  },
  {
   "cell_type": "markdown",
   "id": "ecef2fef-130f-43da-8106-8ce36be2f768",
   "metadata": {},
   "source": [
    "# Define Model"
   ]
  },
  {
   "cell_type": "code",
   "execution_count": 14,
   "id": "5f761c69-4f70-4747-91e4-79764004e958",
   "metadata": {},
   "outputs": [],
   "source": [
    "import numpy as np\n",
    "import tensorflow as tf\n",
    "from tensorflow.keras.models import Sequential\n",
    "from tensorflow.keras.layers import Dense, Dropout, LSTM, LayerNormalization\n",
    "from tensorflow.keras.optimizers import Adam\n",
    "from tensorflow.keras.callbacks import EarlyStopping\n",
    "from tensorflow.keras.models import save_model\n",
    "from sklearn.preprocessing import LabelEncoder\n",
    "from sklearn.metrics import classification_report, confusion_matrix\n",
    "import matplotlib.pyplot as plt\n",
    "import pickle\n",
    "from joblib import load"
   ]
  },
  {
   "cell_type": "code",
   "execution_count": 15,
   "id": "00ae26ff-6b38-4d9a-8124-ccc7a51f36bd",
   "metadata": {},
   "outputs": [],
   "source": [
    "gpus = tf.config.list_physical_devices('GPU')\n",
    "for gpu in gpus:\n",
    "    print(\"Name:\", gpu.name, \"  Type:\", gpu.device_type)"
   ]
  },
  {
   "cell_type": "code",
   "execution_count": 16,
   "id": "d7b1a106-79b2-4037-9217-49b300c163ed",
   "metadata": {},
   "outputs": [],
   "source": [
    "# Konversi sparse matrix ke dense array\n",
    "X_train_dense = X_train_tfidf.toarray()\n",
    "X_valid_dense = X_valid_tfidf.toarray()\n",
    "X_test_dense = X_test_tfidf.toarray()"
   ]
  },
  {
   "cell_type": "code",
   "execution_count": 17,
   "id": "cc67e585-a5cf-4840-a4d5-6070ea174ce7",
   "metadata": {},
   "outputs": [],
   "source": [
    "X_train_lstm = np.expand_dims(X_train_dense, axis=1)\n",
    "X_valid_lstm = np.expand_dims(X_valid_dense, axis=1)\n",
    "X_test_lstm = np.expand_dims(X_test_dense, axis=1)"
   ]
  },
  {
   "cell_type": "code",
   "execution_count": 21,
   "id": "770dd597-5d6d-473f-a7ac-7e7bbcbfd8dc",
   "metadata": {},
   "outputs": [
    {
     "data": {
      "text/plain": [
       "(1, 3102)"
      ]
     },
     "execution_count": 21,
     "metadata": {},
     "output_type": "execute_result"
    }
   ],
   "source": [
    "X_train_lstm.shape[1], X_train_lstm.shape[2]"
   ]
  },
  {
   "cell_type": "code",
   "execution_count": 18,
   "id": "32b892f0-0413-4665-afe9-638414703911",
   "metadata": {},
   "outputs": [],
   "source": [
    "# Membuat model\n",
    "model = Sequential()\n",
    "model.add(LSTM(128, input_shape=(X_train_lstm.shape[1], X_train_lstm.shape[2]), activation='relu'))\n",
    "model.add(LayerNormalization()),\n",
    "model.add(Dense(64, activation='relu'))\n",
    "model.add(Dropout(0.3))\n",
    "model.add(Dense(32, activation='relu'))\n",
    "model.add(Dropout(0.3))\n",
    "model.add(Dense(14, activation='softmax'))\n",
    "\n",
    "# compile model\n",
    "model.compile(loss='sparse_categorical_crossentropy',\n",
    "              optimizer=Adam(learning_rate=0.0001),\n",
    "              metrics=['accuracy'])\n",
    "\n",
    "# define early stopping\n",
    "early_stopping = EarlyStopping(monitor='val_loss', patience=5, restore_best_weights=True)"
   ]
  },
  {
   "cell_type": "code",
   "execution_count": 20,
   "id": "081fb7ce-eec8-4225-854a-7e45e0b868c6",
   "metadata": {},
   "outputs": [
    {
     "name": "stdout",
     "output_type": "stream",
     "text": [
      "Model: \"sequential\"\n",
      "_________________________________________________________________\n",
      " Layer (type)                Output Shape              Param #   \n",
      "=================================================================\n",
      " lstm (LSTM)                 (None, 128)               1654272   \n",
      "                                                                 \n",
      " layer_normalization (LayerN  (None, 128)              256       \n",
      " ormalization)                                                   \n",
      "                                                                 \n",
      " dense (Dense)               (None, 64)                8256      \n",
      "                                                                 \n",
      " dropout (Dropout)           (None, 64)                0         \n",
      "                                                                 \n",
      " dense_1 (Dense)             (None, 32)                2080      \n",
      "                                                                 \n",
      " dropout_1 (Dropout)         (None, 32)                0         \n",
      "                                                                 \n",
      " dense_2 (Dense)             (None, 14)                462       \n",
      "                                                                 \n",
      "=================================================================\n",
      "Total params: 1,665,326\n",
      "Trainable params: 1,665,326\n",
      "Non-trainable params: 0\n",
      "_________________________________________________________________\n"
     ]
    }
   ],
   "source": [
    "model.summary()"
   ]
  },
  {
   "cell_type": "markdown",
   "id": "a056e534-229d-4cf5-847d-55ad093dbe88",
   "metadata": {},
   "source": [
    "# Training"
   ]
  },
  {
   "cell_type": "code",
   "execution_count": 103,
   "id": "888864c5-d5ab-480a-981b-056bb7d36254",
   "metadata": {},
   "outputs": [
    {
     "name": "stdout",
     "output_type": "stream",
     "text": [
      "Epoch 1/50\n",
      "52/52 [==============================] - 2s 16ms/step - loss: 2.6374 - accuracy: 0.0793 - val_loss: 2.6193 - val_accuracy: 0.1108\n",
      "Epoch 2/50\n",
      "52/52 [==============================] - 0s 7ms/step - loss: 2.6123 - accuracy: 0.1126 - val_loss: 2.5909 - val_accuracy: 0.1592\n",
      "Epoch 3/50\n",
      "52/52 [==============================] - 0s 7ms/step - loss: 2.5901 - accuracy: 0.1386 - val_loss: 2.5563 - val_accuracy: 0.2173\n",
      "Epoch 4/50\n",
      "52/52 [==============================] - 0s 7ms/step - loss: 2.5503 - accuracy: 0.1701 - val_loss: 2.5106 - val_accuracy: 0.2797\n",
      "Epoch 5/50\n",
      "52/52 [==============================] - 0s 7ms/step - loss: 2.5046 - accuracy: 0.2052 - val_loss: 2.4469 - val_accuracy: 0.3317\n",
      "Epoch 6/50\n",
      "52/52 [==============================] - 0s 8ms/step - loss: 2.4425 - accuracy: 0.2476 - val_loss: 2.3608 - val_accuracy: 0.3995\n",
      "Epoch 7/50\n",
      "52/52 [==============================] - 0s 8ms/step - loss: 2.3479 - accuracy: 0.2785 - val_loss: 2.2452 - val_accuracy: 0.4437\n",
      "Epoch 8/50\n",
      "52/52 [==============================] - 0s 8ms/step - loss: 2.2562 - accuracy: 0.2900 - val_loss: 2.1076 - val_accuracy: 0.5321\n",
      "Epoch 9/50\n",
      "52/52 [==============================] - 0s 8ms/step - loss: 2.1088 - accuracy: 0.3662 - val_loss: 1.9407 - val_accuracy: 0.6090\n",
      "Epoch 10/50\n",
      "52/52 [==============================] - 0s 8ms/step - loss: 1.9971 - accuracy: 0.4019 - val_loss: 1.7560 - val_accuracy: 0.7004\n",
      "Epoch 11/50\n",
      "52/52 [==============================] - 0s 8ms/step - loss: 1.8184 - accuracy: 0.4722 - val_loss: 1.5597 - val_accuracy: 0.7936\n",
      "Epoch 12/50\n",
      "52/52 [==============================] - 0s 9ms/step - loss: 1.6864 - accuracy: 0.5163 - val_loss: 1.3650 - val_accuracy: 0.8523\n",
      "Epoch 13/50\n",
      "52/52 [==============================] - 0s 8ms/step - loss: 1.5026 - accuracy: 0.6035 - val_loss: 1.1735 - val_accuracy: 0.8923\n",
      "Epoch 14/50\n",
      "52/52 [==============================] - 0s 9ms/step - loss: 1.3692 - accuracy: 0.6344 - val_loss: 0.9974 - val_accuracy: 0.9255\n",
      "Epoch 15/50\n",
      "52/52 [==============================] - 0s 8ms/step - loss: 1.2528 - accuracy: 0.6719 - val_loss: 0.8437 - val_accuracy: 0.9389\n",
      "Epoch 16/50\n",
      "52/52 [==============================] - 0s 9ms/step - loss: 1.0868 - accuracy: 0.7155 - val_loss: 0.7053 - val_accuracy: 0.9570\n",
      "Epoch 17/50\n",
      "52/52 [==============================] - 0s 7ms/step - loss: 0.9943 - accuracy: 0.7361 - val_loss: 0.5933 - val_accuracy: 0.9625\n",
      "Epoch 18/50\n",
      "52/52 [==============================] - 0s 8ms/step - loss: 0.8898 - accuracy: 0.7785 - val_loss: 0.5027 - val_accuracy: 0.9740\n",
      "Epoch 19/50\n",
      "52/52 [==============================] - 0s 7ms/step - loss: 0.8024 - accuracy: 0.8057 - val_loss: 0.4255 - val_accuracy: 0.9794\n",
      "Epoch 20/50\n",
      "52/52 [==============================] - 0s 7ms/step - loss: 0.7148 - accuracy: 0.8178 - val_loss: 0.3633 - val_accuracy: 0.9843\n",
      "Epoch 21/50\n",
      "52/52 [==============================] - 0s 8ms/step - loss: 0.6607 - accuracy: 0.8408 - val_loss: 0.3084 - val_accuracy: 0.9915\n",
      "Epoch 22/50\n",
      "52/52 [==============================] - 0s 8ms/step - loss: 0.6095 - accuracy: 0.8402 - val_loss: 0.2678 - val_accuracy: 0.9933\n",
      "Epoch 23/50\n",
      "52/52 [==============================] - 0s 8ms/step - loss: 0.5704 - accuracy: 0.8523 - val_loss: 0.2323 - val_accuracy: 0.9964\n",
      "Epoch 24/50\n",
      "52/52 [==============================] - 0s 8ms/step - loss: 0.5172 - accuracy: 0.8717 - val_loss: 0.2018 - val_accuracy: 0.9976\n",
      "Epoch 25/50\n",
      "52/52 [==============================] - 0s 8ms/step - loss: 0.4835 - accuracy: 0.8868 - val_loss: 0.1743 - val_accuracy: 0.9976\n",
      "Epoch 26/50\n",
      "52/52 [==============================] - 0s 9ms/step - loss: 0.4090 - accuracy: 0.9062 - val_loss: 0.1499 - val_accuracy: 0.9976\n",
      "Epoch 27/50\n",
      "52/52 [==============================] - 0s 8ms/step - loss: 0.3952 - accuracy: 0.9056 - val_loss: 0.1313 - val_accuracy: 0.9982\n",
      "Epoch 28/50\n",
      "52/52 [==============================] - 0s 8ms/step - loss: 0.3778 - accuracy: 0.9092 - val_loss: 0.1152 - val_accuracy: 0.9988\n",
      "Epoch 29/50\n",
      "52/52 [==============================] - 0s 8ms/step - loss: 0.3378 - accuracy: 0.9268 - val_loss: 0.0996 - val_accuracy: 0.9988\n",
      "Epoch 30/50\n",
      "52/52 [==============================] - 0s 7ms/step - loss: 0.3116 - accuracy: 0.9304 - val_loss: 0.0866 - val_accuracy: 0.9988\n",
      "Epoch 31/50\n",
      "52/52 [==============================] - 0s 8ms/step - loss: 0.2965 - accuracy: 0.9377 - val_loss: 0.0770 - val_accuracy: 0.9994\n",
      "Epoch 32/50\n",
      "52/52 [==============================] - 0s 8ms/step - loss: 0.2958 - accuracy: 0.9292 - val_loss: 0.0681 - val_accuracy: 0.9994\n",
      "Epoch 33/50\n",
      "52/52 [==============================] - 0s 8ms/step - loss: 0.2606 - accuracy: 0.9413 - val_loss: 0.0591 - val_accuracy: 1.0000\n",
      "Epoch 34/50\n",
      "52/52 [==============================] - 0s 8ms/step - loss: 0.2505 - accuracy: 0.9425 - val_loss: 0.0522 - val_accuracy: 1.0000\n",
      "Epoch 35/50\n",
      "52/52 [==============================] - 0s 8ms/step - loss: 0.2378 - accuracy: 0.9461 - val_loss: 0.0460 - val_accuracy: 1.0000\n",
      "Epoch 36/50\n",
      "52/52 [==============================] - 0s 8ms/step - loss: 0.2234 - accuracy: 0.9516 - val_loss: 0.0406 - val_accuracy: 1.0000\n",
      "Epoch 37/50\n",
      "52/52 [==============================] - 0s 9ms/step - loss: 0.2161 - accuracy: 0.9546 - val_loss: 0.0363 - val_accuracy: 1.0000\n",
      "Epoch 38/50\n",
      "52/52 [==============================] - 0s 8ms/step - loss: 0.1962 - accuracy: 0.9546 - val_loss: 0.0321 - val_accuracy: 1.0000\n",
      "Epoch 39/50\n",
      "52/52 [==============================] - 0s 8ms/step - loss: 0.1812 - accuracy: 0.9631 - val_loss: 0.0282 - val_accuracy: 1.0000\n",
      "Epoch 40/50\n",
      "52/52 [==============================] - 0s 8ms/step - loss: 0.1985 - accuracy: 0.9546 - val_loss: 0.0256 - val_accuracy: 1.0000\n",
      "Epoch 41/50\n",
      "52/52 [==============================] - 0s 8ms/step - loss: 0.1830 - accuracy: 0.9576 - val_loss: 0.0234 - val_accuracy: 1.0000\n",
      "Epoch 42/50\n",
      "52/52 [==============================] - 0s 9ms/step - loss: 0.1678 - accuracy: 0.9643 - val_loss: 0.0209 - val_accuracy: 1.0000\n",
      "Epoch 43/50\n",
      "52/52 [==============================] - 0s 8ms/step - loss: 0.1565 - accuracy: 0.9667 - val_loss: 0.0187 - val_accuracy: 1.0000\n",
      "Epoch 44/50\n",
      "52/52 [==============================] - 0s 8ms/step - loss: 0.1606 - accuracy: 0.9667 - val_loss: 0.0169 - val_accuracy: 1.0000\n",
      "Epoch 45/50\n",
      "52/52 [==============================] - 0s 8ms/step - loss: 0.1550 - accuracy: 0.9667 - val_loss: 0.0154 - val_accuracy: 1.0000\n",
      "Epoch 46/50\n",
      "52/52 [==============================] - 0s 8ms/step - loss: 0.1295 - accuracy: 0.9728 - val_loss: 0.0134 - val_accuracy: 1.0000\n",
      "Epoch 47/50\n",
      "52/52 [==============================] - 0s 8ms/step - loss: 0.1353 - accuracy: 0.9715 - val_loss: 0.0122 - val_accuracy: 1.0000\n",
      "Epoch 48/50\n",
      "52/52 [==============================] - 0s 8ms/step - loss: 0.1281 - accuracy: 0.9691 - val_loss: 0.0110 - val_accuracy: 1.0000\n",
      "Epoch 49/50\n",
      "52/52 [==============================] - 0s 8ms/step - loss: 0.1197 - accuracy: 0.9691 - val_loss: 0.0100 - val_accuracy: 1.0000\n",
      "Epoch 50/50\n",
      "52/52 [==============================] - 0s 8ms/step - loss: 0.1138 - accuracy: 0.9752 - val_loss: 0.0089 - val_accuracy: 1.0000\n"
     ]
    }
   ],
   "source": [
    "# Fit model\n",
    "history = model.fit(X_train_lstm, y_train_encoded,\n",
    "                    validation_data=(X_valid_lstm, y_valid_encoded),\n",
    "                    epochs=50,\n",
    "                    batch_size=32,\n",
    "                    callbacks=[early_stopping])"
   ]
  },
  {
   "cell_type": "markdown",
   "id": "1baa1be4-edbe-42a3-ad9b-7038133f5abd",
   "metadata": {},
   "source": [
    "# Evaluation"
   ]
  },
  {
   "cell_type": "code",
   "execution_count": 104,
   "id": "a636f3df-e6c8-4ecb-b16b-429f3b9ed0a8",
   "metadata": {
    "tags": []
   },
   "outputs": [
    {
     "data": {
      "image/png": "[encoded data removed]",
      "text/plain": [
       "<Figure size 1200x400 with 2 Axes>"
      ]
     },
     "metadata": {},
     "output_type": "display_data"
    }
   ],
   "source": [
    "# Plotting loss dan accuracy\n",
    "def plot_history(history):\n",
    "    plt.figure(figsize=(12, 4))\n",
    "\n",
    "    plt.subplot(1, 2, 1)\n",
    "    plt.plot(history.history['loss'], label='Train Loss')\n",
    "    plt.plot(history.history['val_loss'], label='Validation Loss')\n",
    "    plt.xlabel('Epochs')\n",
    "    plt.ylabel('Loss')\n",
    "    plt.legend()\n",
    "    plt.title('Loss History')\n",
    "\n",
    "    plt.subplot(1, 2, 2)\n",
    "    plt.plot(history.history['accuracy'], label='Train Accuracy')\n",
    "    plt.plot(history.history['val_accuracy'], label='Validation Accuracy')\n",
    "    plt.xlabel('Epochs')\n",
    "    plt.ylabel('Accuracy')\n",
    "    plt.legend()\n",
    "    plt.title('Accuracy History')\n",
    "\n",
    "    plt.show()\n",
    "\n",
    "plot_history(history)"
   ]
  },
  {
   "cell_type": "code",
   "execution_count": 105,
   "id": "f22cb1d7-62ca-448b-86bd-3b6f340ec61e",
   "metadata": {
    "tags": []
   },
   "outputs": [
    {
     "name": "stdout",
     "output_type": "stream",
     "text": [
      "52/52 [==============================] - 0s 4ms/step\n",
      "                     precision    recall  f1-score   support\n",
      "\n",
      "             abroad       1.00      1.00      1.00       124\n",
      "            address       1.00      1.00      1.00       122\n",
      "          app_error       1.00      1.00      1.00       101\n",
      "          atm_limit       1.00      1.00      1.00       119\n",
      "            balance       1.00      1.00      1.00       128\n",
      "      business_loan       1.00      1.00      1.00       118\n",
      "        card_issues       1.00      1.00      1.00       127\n",
      "       cash_deposit       1.00      1.00      1.00       125\n",
      "       direct_debit       1.00      1.00      1.00       111\n",
      "             freeze       1.00      1.00      1.00       113\n",
      " high_value_payment       1.00      1.00      1.00       111\n",
      "      joint_account       1.00      1.00      1.00       124\n",
      "latest_transactions       1.00      1.00      1.00       111\n",
      "           pay_bill       1.00      1.00      1.00       118\n",
      "\n",
      "           accuracy                           1.00      1652\n",
      "          macro avg       1.00      1.00      1.00      1652\n",
      "       weighted avg       1.00      1.00      1.00      1652\n",
      "\n"
     ]
    },
    {
     "data": {
      "image/png": "[encoded data removed]",
      "text/plain": [
       "<Figure size 800x600 with 2 Axes>"
      ]
     },
     "metadata": {},
     "output_type": "display_data"
    }
   ],
   "source": [
    "# evaluate model\n",
    "y_pred = model.predict(X_test_lstm)\n",
    "y_pred_classes = np.argmax(y_pred, axis=1)\n",
    "\n",
    "# Classification Report\n",
    "print(classification_report(y_test_encoded, y_pred_classes, target_names=label_encoder.classes_))\n",
    "\n",
    "# Confusion Matrix\n",
    "from sklearn.metrics import confusion_matrix, ConfusionMatrixDisplay\n",
    "import matplotlib.pyplot as plt\n",
    "\n",
    "cm = confusion_matrix(y_test_encoded, y_pred_classes)\n",
    "plt.figure(figsize=(8, 6))\n",
    "plt.imshow(cm, interpolation='nearest', cmap=plt.cm.Blues)\n",
    "plt.title('Confusion Matrix')\n",
    "plt.colorbar()\n",
    "tick_marks = np.arange(len(label_encoder.classes_))\n",
    "plt.xticks(tick_marks, label_encoder.classes_, rotation=45)\n",
    "plt.yticks(tick_marks, label_encoder.classes_)\n",
    "plt.ylabel('True label')\n",
    "plt.xlabel('Predicted label')\n",
    "plt.show()"
   ]
  },
  {
   "cell_type": "code",
   "execution_count": 106,
   "id": "5115ed09-dee8-4d18-81ff-727d202561f3",
   "metadata": {
    "tags": []
   },
   "outputs": [],
   "source": [
    "# save model\n",
    "model.save_weights(\n",
    "    \"lstm_tfidf\"\n",
    ")"
   ]
  },
  {
   "cell_type": "code",
   "execution_count": 107,
   "id": "8668d88d-d8d3-4623-8312-243ff67f805e",
   "metadata": {
    "tags": []
   },
   "outputs": [
    {
     "data": {
      "text/plain": [
       "<tensorflow.python.checkpoint.checkpoint.CheckpointLoadStatus at 0x1d3cd8ff280>"
      ]
     },
     "execution_count": 107,
     "metadata": {},
     "output_type": "execute_result"
    }
   ],
   "source": [
    "# load model\n",
    "model.load_weights('lstm_tfidf')"
   ]
  },
  {
   "cell_type": "markdown",
   "id": "799c39b2-e32a-44af-b92e-20f4515f2c7d",
   "metadata": {},
   "source": [
    "# Inference"
   ]
  },
  {
   "cell_type": "code",
   "execution_count": 123,
   "id": "de08c2c0-6510-41be-af77-eb4e3ac37425",
   "metadata": {
    "tags": []
   },
   "outputs": [
    {
     "data": {
      "text/plain": [
       "array([['ja schönen guten Tag ich wollte mich mal erkundigen nach einem Kredit die nicht aufgenommen hatte schon meine Firma',\n",
       "        'yes good afternoon I wanted to inquire about a loan that my company had not taken out',\n",
       "        5, 'business_loan']], dtype=object)"
      ]
     },
     "execution_count": 123,
     "metadata": {},
     "output_type": "execute_result"
    }
   ],
   "source": [
    "df_test.sample(1)[[\"transcription\", \"english_transcription\", \"intent_class\", \"intent_label\"]].values"
   ]
  },
  {
   "cell_type": "code",
   "execution_count": 124,
   "id": "3b0e5da1-4719-4767-8cce-0d16c23cb597",
   "metadata": {
    "tags": []
   },
   "outputs": [],
   "source": [
    "# Sample Input\n",
    "text = \"ja schönen guten Tag ich wollte mich mal erkundigen nach einem Kredit die nicht aufgenommen hatte schon meine Firma\""
   ]
  },
  {
   "cell_type": "code",
   "execution_count": 125,
   "id": "141ae69f-fcfd-434c-9247-ee041b2e2099",
   "metadata": {
    "tags": []
   },
   "outputs": [],
   "source": [
    "X_sample = pd.DataFrame({\"transcription\":[text]})"
   ]
  },
  {
   "cell_type": "code",
   "execution_count": 126,
   "id": "ec4128f2-79eb-4c07-9908-8e83bfbe8766",
   "metadata": {
    "tags": []
   },
   "outputs": [],
   "source": [
    "# Preprocessing pipeline\n",
    "X_sample['transcription_non_double_space'] = X_sample['transcription'].apply(remove_double_space)\n",
    "X_sample['transcription_lowercase'] = X_sample['transcription_non_double_space'].str.lower()\n",
    "# X_sample['transcription_jieba'] = X_sample['transcription_lowercase'].apply(chinese_segment)\n",
    "# X_sample['transcription_tokenize'] = X_sample['transcription_jieba'].apply(tokenize_text)"
   ]
  },
  {
   "cell_type": "code",
   "execution_count": 128,
   "id": "c770565d-6fdf-4a3c-a7eb-497f9fb8eb65",
   "metadata": {
    "tags": []
   },
   "outputs": [],
   "source": [
    "X_sample_tfidf = tfidf_vectorizer.transform(X_sample['transcription_lowercase'])"
   ]
  },
  {
   "cell_type": "code",
   "execution_count": 129,
   "id": "5f88281e-348b-4172-8200-94a15ba65e0e",
   "metadata": {
    "tags": []
   },
   "outputs": [],
   "source": [
    "X_sample_dense = X_sample_tfidf.toarray()\n",
    "X_sample_lstm = np.expand_dims(X_sample_dense, axis=1)"
   ]
  },
  {
   "cell_type": "code",
   "execution_count": 130,
   "id": "abdd3eb0-67d2-4e3b-91f0-2a886c8a2f31",
   "metadata": {
    "tags": []
   },
   "outputs": [
    {
     "name": "stdout",
     "output_type": "stream",
     "text": [
      "1/1 [==============================] - 0s 14ms/step\n"
     ]
    }
   ],
   "source": [
    "y_pred = model.predict(X_sample_lstm)"
   ]
  },
  {
   "cell_type": "code",
   "execution_count": 131,
   "id": "97f2943a-3b20-4d8d-9c3f-d7da54d54412",
   "metadata": {
    "tags": []
   },
   "outputs": [],
   "source": [
    "y_pred_classes = np.argmax(y_pred, axis=1)"
   ]
  },
  {
   "cell_type": "code",
   "execution_count": 132,
   "id": "d7100062-7060-4987-bed0-9bfece50945a",
   "metadata": {
    "tags": []
   },
   "outputs": [
    {
     "data": {
      "text/plain": [
       "array([5], dtype=int64)"
      ]
     },
     "execution_count": 132,
     "metadata": {},
     "output_type": "execute_result"
    }
   ],
   "source": [
    "y_pred_classes"
   ]
  }
 ],
 "metadata": {
  "kernelspec": {
   "display_name": "Python 3 (ipykernel)",
   "language": "python",
   "name": "python3"
  },
  "language_info": {
   "codemirror_mode": {
    "name": "ipython",
    "version": 3
   },
   "file_extension": ".py",
   "mimetype": "text/x-python",
   "name": "python",
   "nbconvert_exporter": "python",
   "pygments_lexer": "ipython3",
   "version": "3.10.0rc2"
  }
 },
 "nbformat": 4,
 "nbformat_minor": 5
}
